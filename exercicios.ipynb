{
  "nbformat": 4,
  "nbformat_minor": 0,
  "metadata": {
    "colab": {
      "name": "exercicios",
      "provenance": [],
      "collapsed_sections": [],
      "include_colab_link": true
    },
    "kernelspec": {
      "name": "python3",
      "display_name": "Python 3"
    }
  },
  "cells": [
    {
      "cell_type": "markdown",
      "metadata": {
        "id": "view-in-github",
        "colab_type": "text"
      },
      "source": [
        "<a href=\"https://colab.research.google.com/github/eduardasantanab/exercicios-phyton/blob/main/exercicios.ipynb\" target=\"_parent\"><img src=\"https://colab.research.google.com/assets/colab-badge.svg\" alt=\"Open In Colab\"/></a>"
      ]
    },
    {
      "cell_type": "markdown",
      "metadata": {
        "id": "9ujEVvoCTM6p"
      },
      "source": [
        "<img src=\"https://www.cesar.school/wp-content/uploads/2019/09/marca_cesar_school.png\" alt=\"drawing\" width=\"200\"/>\n",
        "\n",
        "# Python - **Exercícios**\n",
        "\n",
        "---\n",
        "\n"
      ]
    },
    {
      "cell_type": "markdown",
      "metadata": {
        "id": "ALgn8jEOXI8m"
      },
      "source": [
        "**1**. Faça um Programa que mostre a mensagem \"Alo mundo\" na tela"
      ]
    },
    {
      "cell_type": "code",
      "metadata": {
        "id": "E-tm-Ac-dkKI",
        "colab": {
          "base_uri": "https://localhost:8080/"
        },
        "outputId": "82351dbe-ad2a-4968-a519-7ff2d9ae7f4a"
      },
      "source": [
        "print(\"Alo mundo\")"
      ],
      "execution_count": null,
      "outputs": [
        {
          "output_type": "stream",
          "text": [
            "Alo mundo\n"
          ],
          "name": "stdout"
        }
      ]
    },
    {
      "cell_type": "markdown",
      "metadata": {
        "id": "H9Xmh3n0dku7"
      },
      "source": [
        "\n",
        "2. Faça um Programa que peça um número e então mostre a mensagem O número informado foi [número]."
      ]
    },
    {
      "cell_type": "code",
      "metadata": {
        "id": "oJxXXoQMePMm",
        "colab": {
          "base_uri": "https://localhost:8080/"
        },
        "outputId": "d24e41e5-1f52-4c52-af80-5b31fad877e5"
      },
      "source": [
        "numero = input(\"Insira um número: \")\n",
        "\n",
        "print(\"O número informado foi: \" + numero)"
      ],
      "execution_count": null,
      "outputs": [
        {
          "output_type": "stream",
          "text": [
            "Insira um número: 5\n",
            "O número informado foi: 5\n"
          ],
          "name": "stdout"
        }
      ]
    },
    {
      "cell_type": "markdown",
      "metadata": {
        "id": "Mc8ww-KEdndf"
      },
      "source": [
        "\n",
        "3. Faça um Programa que peça dois números e imprima a soma."
      ]
    },
    {
      "cell_type": "code",
      "metadata": {
        "id": "SfwZe2zseO3m",
        "colab": {
          "base_uri": "https://localhost:8080/"
        },
        "outputId": "8182489b-7e20-4a24-e002-cdcec9a2add3"
      },
      "source": [
        "numero_1 = input(\"Insira o primeiro número: \")\n",
        "numero_2 = input(\"Insira o segundo número: \")\n",
        "soma = int(numero_1) + int(numero_2)\n",
        "\n",
        "print(soma)\n",
        "\n"
      ],
      "execution_count": null,
      "outputs": [
        {
          "output_type": "stream",
          "text": [
            "Insira o primeiro número: 1\n",
            "Insira o segundo número: 3\n",
            "4\n"
          ],
          "name": "stdout"
        }
      ]
    },
    {
      "cell_type": "markdown",
      "metadata": {
        "id": "MfVY2KazdpxA"
      },
      "source": [
        "\n",
        "4. Faça um Programa que peça as 4 notas bimestrais e mostre a média."
      ]
    },
    {
      "cell_type": "code",
      "metadata": {
        "id": "B5dg4jyLeOV9",
        "colab": {
          "base_uri": "https://localhost:8080/"
        },
        "outputId": "1fb7a01d-c89e-4f49-81ab-07178dd986dd"
      },
      "source": [
        "nota_1 = input(\"Informe a primeia nota: \")\n",
        "nota_2 = input(\"Informe a segunda nota: \")\n",
        "nota_3 = input(\"Informe a terceira nota: \")\n",
        "nota_4 = input(\"Informe a quarta nota: \")\n",
        "\n",
        "media = (float(nota_1) + float(nota_2) + float(nota_3) + float(nota_4)) / 4\n",
        "\n",
        "print(\"Média das 4 notas bimestrais: %f\" %(media))\n",
        "\n"
      ],
      "execution_count": null,
      "outputs": [
        {
          "output_type": "stream",
          "text": [
            "Informe a primeia nota: 5\n",
            "Informe a segunda nota: 6\n",
            "Informe a terceira nota: 10\n",
            "Informe a quarta nota: 4.5\n",
            "Média das 4 notas bimestrais: 6.375000\n"
          ],
          "name": "stdout"
        }
      ]
    },
    {
      "cell_type": "markdown",
      "metadata": {
        "id": "GYPjRaE1dsEo"
      },
      "source": [
        "\n",
        "5. Faça um Programa que converta metros para centímetros."
      ]
    },
    {
      "cell_type": "code",
      "metadata": {
        "id": "bDTpB4hxeOAS",
        "colab": {
          "base_uri": "https://localhost:8080/"
        },
        "outputId": "0086727f-45f9-461b-e00f-9f773b3887f8"
      },
      "source": [
        "metros = input(\"Informe um número em metros: \")\n",
        "conversao = float(metros) * 100\n",
        "\n",
        "print(\"Número em centímetros: \", conversao)"
      ],
      "execution_count": null,
      "outputs": [
        {
          "output_type": "stream",
          "text": [
            "Informe um número em metros: 1.68\n",
            "Número em centímetros:  168.0\n"
          ],
          "name": "stdout"
        }
      ]
    },
    {
      "cell_type": "markdown",
      "metadata": {
        "id": "Iw_6PGlvdt2P"
      },
      "source": [
        "\n",
        "6. Faça um Programa que peça o raio de um círculo, calcule e mostre sua área."
      ]
    },
    {
      "cell_type": "code",
      "metadata": {
        "id": "QBB456-ceNox",
        "colab": {
          "base_uri": "https://localhost:8080/"
        },
        "outputId": "a955d895-4218-4f1c-f071-33052feab270"
      },
      "source": [
        "raio = int(input(\"Informe o raio de um círculo: \"))\n",
        "area = 3.14 * (raio**2)\n",
        "\n",
        "print(\"Área do círculo: \", area)"
      ],
      "execution_count": null,
      "outputs": [
        {
          "output_type": "stream",
          "text": [
            "Informe o raio de um círculo: 6\n",
            "Área do círculo:  113.04\n"
          ],
          "name": "stdout"
        }
      ]
    },
    {
      "cell_type": "markdown",
      "metadata": {
        "id": "6WX2yHw8dvgh"
      },
      "source": [
        "\n",
        "7. Faça um Programa que calcule a área de um quadrado, em seguida mostre o dobro desta área para o usuário."
      ]
    },
    {
      "cell_type": "code",
      "metadata": {
        "id": "bq1uTrxieNIi",
        "colab": {
          "base_uri": "https://localhost:8080/"
        },
        "outputId": "a8a207bc-c5a5-4732-fd33-1500576ff0d8"
      },
      "source": [
        "lado = int(input(\"Informe o lado de um quadrado: \"))\n",
        "area = lado**2\n",
        "\n",
        "print(f\"Área: {area}\")\n",
        "print(\"Dobro da área: %i\" %(area * 2))\n",
        "\n",
        "\n"
      ],
      "execution_count": null,
      "outputs": [
        {
          "output_type": "stream",
          "text": [
            "Informe o lado de um quadrado: 8\n",
            "Área: 64\n",
            "Dobro da área: 128\n"
          ],
          "name": "stdout"
        }
      ]
    },
    {
      "cell_type": "markdown",
      "metadata": {
        "id": "OHtr_FwmdxNL"
      },
      "source": [
        "\n",
        "8. Faça um Programa que pergunte quanto você ganha por hora e o número de horas trabalhadas no mês. Calcule e mostre o total do seu salário no referido mês."
      ]
    },
    {
      "cell_type": "code",
      "metadata": {
        "id": "r8eK89x0eMzi",
        "colab": {
          "base_uri": "https://localhost:8080/"
        },
        "outputId": "5fbb5fdb-04fd-4cf6-b192-a4781603f7a3"
      },
      "source": [
        "ganho_hora = float(input(\"Digite quanto você ganha por hora: \"))\n",
        "hora = float(input(\"Informe quantas horas no mês você trabalha: \"))\n",
        "\n",
        "salario = ganho_hora * hora\n",
        "\n",
        "print(\"Salário: \", salario)"
      ],
      "execution_count": null,
      "outputs": [
        {
          "output_type": "stream",
          "text": [
            "Digite quanto você ganha por hora: 10.5\n",
            "Informe quantas horas no mês você trabalha: 80\n",
            "Salário:  840.0\n"
          ],
          "name": "stdout"
        }
      ]
    },
    {
      "cell_type": "markdown",
      "metadata": {
        "id": "OTc5-XqodzSn"
      },
      "source": [
        "\n",
        "9. Faça um Programa que peça a temperatura em graus Fahrenheit, transforme e mostre a temperatura em graus Celsius.\n",
        "> C = 5 * ((F-32) / 9)."
      ]
    },
    {
      "cell_type": "code",
      "metadata": {
        "id": "bfkUM9cceMbv",
        "colab": {
          "base_uri": "https://localhost:8080/"
        },
        "outputId": "bce69c92-9e9e-4261-8ca9-b54b495ecf5a"
      },
      "source": [
        "fahrenheit = float(input(\"Informe uma temperatura em graus Fahrenheit: \"))\n",
        "conversao_celsius = 5 * ((fahrenheit - 32) / 9)\n",
        "\n",
        "print(f\"Temperatura em graus Celsius: {conversao_celsius}\")"
      ],
      "execution_count": null,
      "outputs": [
        {
          "output_type": "stream",
          "text": [
            "Informe uma temperatura em graus Fahrenheit: 50\n",
            "Temperatura em graus Celsius: 10.0\n"
          ],
          "name": "stdout"
        }
      ]
    },
    {
      "cell_type": "markdown",
      "metadata": {
        "id": "E17ya82wd1rv"
      },
      "source": [
        "\n",
        "10. Faça um Programa que peça a temperatura em graus Celsius, transforme e mostre em graus Fahrenheit."
      ]
    },
    {
      "cell_type": "code",
      "metadata": {
        "id": "5f6H4KPoeMBf",
        "colab": {
          "base_uri": "https://localhost:8080/"
        },
        "outputId": "71ba9ce3-74da-4f86-947b-7b8fc65d7a0a"
      },
      "source": [
        "celsius = float(input(\"Informe uma temperatura em graus Celsius: \"))\n",
        "conversao_fahrenheit = (celsius * 9)/5 + 32\n",
        "\n",
        "print(\"Temperatura em graus Fahrenheit: %f\" %(conversao_fahrenheit))"
      ],
      "execution_count": null,
      "outputs": [
        {
          "output_type": "stream",
          "text": [
            "Informe uma temperatura em graus Celsius: 40\n",
            "Temperatura em graus Fahrenheit: 104.000000\n"
          ],
          "name": "stdout"
        }
      ]
    },
    {
      "cell_type": "markdown",
      "metadata": {
        "id": "gfkqRT1hd5Uq"
      },
      "source": [
        "\n",
        "11. Faça um Programa que peça 2 números inteiros e um número real. Calcule e mostre:\n",
        "    - o produto do dobro do primeiro com metade do segundo.\n",
        "    - soma do triplo do primeiro com o terceiro.\n",
        "    - terceiro elevado ao cubo."
      ]
    },
    {
      "cell_type": "code",
      "metadata": {
        "id": "U0LGrxCYeLbT",
        "colab": {
          "base_uri": "https://localhost:8080/"
        },
        "outputId": "9e01c5f5-cc29-4977-c43e-494cd0235e99"
      },
      "source": [
        "inteiro_1 = int(input(\"Informe um número 'x' inteiro : \"))\n",
        "inteiro_2 = int(input(\"Informe um segundo número 'y' inteiro : \"))\n",
        "real = float(input(\"Informe um número 'z' real : \"))\n",
        "\n",
        "operacao1 = (2 * inteiro_1) * (inteiro_2 / 2)\n",
        "operacao2 = (3 * inteiro_1) + real\n",
        "operacao3 = real**3\n",
        "\n",
        "print(\"___________________\")\n",
        "print(\"2x * y/2 = \", operacao1)\n",
        "print(\"3x + z = \", operacao2)\n",
        "print(\"z^3 = \", operacao3)"
      ],
      "execution_count": null,
      "outputs": [
        {
          "output_type": "stream",
          "text": [
            "Informe um número 'x' inteiro : 6\n",
            "Informe um segundo número 'y' inteiro : 7\n",
            "Informe um número 'z' real : 2.5\n",
            "___________________\n",
            "2x * y/2 =  42.0\n",
            "3x + z =  20.5\n",
            "z^3 =  15.625\n"
          ],
          "name": "stdout"
        }
      ]
    },
    {
      "cell_type": "markdown",
      "metadata": {
        "id": "GeccMwZid7LV"
      },
      "source": [
        "\n",
        "12. Tendo como dados de entrada a altura de uma pessoa, construa um algoritmo que calcule seu peso ideal, usando a seguinte fórmula: (72.7*altura) - 58"
      ]
    },
    {
      "cell_type": "code",
      "metadata": {
        "id": "KG7NZMI4eK-R",
        "colab": {
          "base_uri": "https://localhost:8080/"
        },
        "outputId": "6eef564b-115e-43b6-a50b-af5ff9c5df31"
      },
      "source": [
        "altura = float(input(\"Informe sua altura: \"))\n",
        "\n",
        "peso_ideal = (72.7 * altura) - 58\n",
        "\n",
        "print(\"Peso ideal: \", peso_ideal)"
      ],
      "execution_count": null,
      "outputs": [
        {
          "output_type": "stream",
          "text": [
            "Informe sua altura: 1.68\n",
            "Peso ideal:  64.136\n"
          ],
          "name": "stdout"
        }
      ]
    },
    {
      "cell_type": "markdown",
      "metadata": {
        "id": "TGfnvz6rd9Q3"
      },
      "source": [
        "\n",
        "13. Tendo como dado de entrada a altura (h) de uma pessoa, construa um algoritmo que calcule seu peso ideal, utilizando as seguintes fórmulas:\n",
        "    - Para homens: (72.7*h) - 58\n",
        "    - Para mulheres: (62.1*h) - 44.7"
      ]
    },
    {
      "cell_type": "code",
      "metadata": {
        "id": "OmLkbOULeKjQ",
        "colab": {
          "base_uri": "https://localhost:8080/"
        },
        "outputId": "cdf8e44f-535a-45b8-b30b-a8105aae0e75"
      },
      "source": [
        "genero = int(input(\"Informe o seu gênero: digite '1' para feminino ou '2' para masculino \"))\n",
        "altura = float(input(\"Informe sua altura: \"))\n",
        "\n",
        "if (genero == 1):\n",
        "  print(\"Peso ideal: \", (62.1 * altura - 44.7))\n",
        "\n",
        "elif (genero == 2):\n",
        "  print(\"Peso ideal: \", (72.2 * altura) - 58)"
      ],
      "execution_count": null,
      "outputs": [
        {
          "output_type": "stream",
          "text": [
            "Informe o seu gênero: digite '1' para feminino ou '2' para masculino 1\n",
            "Informe sua altura: 1.68\n",
            "Peso ideal:  59.628\n"
          ],
          "name": "stdout"
        }
      ]
    },
    {
      "cell_type": "markdown",
      "metadata": {
        "id": "rUcxxTf6d_4G"
      },
      "source": [
        "\n",
        "14. João Papo-de-Pescador, homem de bem, comprou um microcomputador para controlar o rendimento diário de seu trabalho. Toda vez que ele traz um peso de peixes maior que o estabelecido pelo regulamento de pesca do estado de São Paulo (50 quilos) deve pagar uma multa de R\\$ 4,00 por quilo excedente. João precisa que você faça um programa que leia a variável peso (peso de peixes) e calcule o excesso. Gravar na variável excesso a quantidade de quilos além do limite e na variável multa o valor da multa que João deverá pagar. Imprima os dados do programa com as mensagens adequadas."
      ]
    },
    {
      "cell_type": "code",
      "metadata": {
        "id": "LacOhDYmeKAW",
        "colab": {
          "base_uri": "https://localhost:8080/"
        },
        "outputId": "e9df68f5-5707-49a9-b71b-f5fccca4bd9b"
      },
      "source": [
        "peso = int(input(\"Informe o peso de peixes: \"))\n",
        "excesso = peso - 50\n",
        "multa = (peso - 50) * 4\n",
        "\n",
        "if (peso > 50):\n",
        "  print(\"Peso de peixes: \", peso, \"kg\")\n",
        "  print(\"Excesso de peso: \", excesso)\n",
        "  print(\"Multa: \", multa)\n",
        "\n",
        "else: \n",
        "  print(\"Peso de peixes: \", peso)\n"
      ],
      "execution_count": null,
      "outputs": [
        {
          "output_type": "stream",
          "text": [
            "Informe o peso de peixes: 52\n",
            "Peso de peixes:  52 kg\n",
            "Excesso de peso:  2\n",
            "Multa:  8\n"
          ],
          "name": "stdout"
        }
      ]
    },
    {
      "cell_type": "markdown",
      "metadata": {
        "id": "XH9X194beCpW"
      },
      "source": [
        "\n",
        "15. Faça um Programa que pergunte quanto você ganha por hora e o número de horas trabalhadas no mês. Calcule e mostre o total do seu salário no referido mês, sabendo-se que são descontados 11% para o Imposto de Renda, 8% para o INSS e 5% para o sindicato, faça um programa que nos dê:\n",
        "    * salário bruto.\n",
        "    - quanto pagou ao INSS.\n",
        "    + quanto pagou ao sindicato.\n",
        "    - o salário líquido.\n",
        "    - calcule os descontos e o salário líquido, conforme a tabela abaixo:\n",
        "\n",
        "```\n",
        "            + Salário Bruto : R$\n",
        "            - IR (11%) : R$\n",
        "            - INSS (8%) : R$\n",
        "            - Sindicato ( 5%) : R$\n",
        "            = Salário Liquido : R$\n",
        "```\n",
        "> Obs.: Salário Bruto - Descontos = Salário Líquido.\n"
      ]
    },
    {
      "cell_type": "code",
      "metadata": {
        "id": "bTjIis6yeJDi",
        "colab": {
          "base_uri": "https://localhost:8080/"
        },
        "outputId": "3d42f5f1-a4d6-48f0-dddb-b481e2167218"
      },
      "source": [
        "ganho_hora = float(input(\"Informe qual o seu ganho por hora: \"))\n",
        "horas_mes = float(input(\"Informe quantas horas por mês você trabalha: \"))\n",
        "salario_bruto = (ganho_hora * horas_mes)\n",
        "inss = salario_bruto * 0.08\n",
        "imposto_renda = salario_bruto * 0.11\n",
        "sindicato = (salario_bruto * 0.05)\n",
        "salario_liquido = salario_bruto - (imposto_renda + inss + sindicato)\n",
        "\n",
        "print(\"Salário Bruto: R$ %.2f\" %(salario_bruto))\n",
        "print(f\"INSS: R${inss}\")\n",
        "print(\"Sindicato: R$%.2f\" %(sindicato))\n",
        "print(f\"Salário líquido: R${salario_liquido}\")\n",
        "\n",
        "\n"
      ],
      "execution_count": null,
      "outputs": [
        {
          "output_type": "stream",
          "text": [
            "Informe qual o seu ganho por hora: 120\n",
            "Informe quantas horas por mês você trabalha: 90\n",
            "Salário Bruto: R$ 10800.00\n",
            "INSS: R$864.0\n",
            "Sindicato: R$540.00\n",
            "Salário líquido: R$8208.0\n"
          ],
          "name": "stdout"
        }
      ]
    },
    {
      "cell_type": "markdown",
      "metadata": {
        "id": "dQgoUp4FeEjs"
      },
      "source": [
        "\n",
        "16. Faça um programa para uma loja de tintas. O programa deverá pedir o tamanho em metros quadrados da área a ser pintada. Considere que a cobertura da tinta é de 1 litro para cada 3 metros quadrados e que a tinta é vendida em latas de 18 litros, que custam R\\$ 80,00. Informe ao usuário a quantidades de latas de tinta a serem compradas e o preço total. Obs.: somente são vendidos um número inteiro de latas."
      ]
    },
    {
      "cell_type": "code",
      "metadata": {
        "id": "BLgRrbqteIiY",
        "colab": {
          "base_uri": "https://localhost:8080/"
        },
        "outputId": "ebbb935e-36e0-4966-91cc-098669d990b4"
      },
      "source": [
        "import math\n",
        "\n",
        "area = float(input(\"Informe a área a ser pintada em m2: \"))\n",
        "litros_metro2 = area/3\n",
        "latas = math.ceil(litros_metro2/18)\n",
        "\n",
        "print(f\"Quantidade de latas: {latas}\")\n",
        "print(\"Preço total: R$ %.2f\" %(latas * 80))"
      ],
      "execution_count": null,
      "outputs": [
        {
          "output_type": "stream",
          "text": [
            "Informe a área a ser pintada em m2: 56\n",
            "Quantidade de latas: 2\n",
            "Preço total: R$ 160.00\n"
          ],
          "name": "stdout"
        }
      ]
    },
    {
      "cell_type": "markdown",
      "metadata": {
        "id": "aDlscibneF_-"
      },
      "source": [
        "\n",
        "17. Faça um Programa para uma loja de tintas. O programa deverá pedir o tamanho em metros quadrados da área a ser pintada. Considere que a cobertura da tinta é de 1 litro para cada 6 metros quadrados e que a tinta é vendida em latas de 18 litros, que custam R\\$ 80,00 ou em galões de 3,6 litros, que custam R\\$ 25,00.\n",
        "  - Informe ao usuário as quantidades de tinta a serem compradas e os respectivos preços em 3 situações:\n",
        "  - comprar apenas latas de 18 litros;\n",
        "  - comprar apenas galões de 3,6 litros;\n",
        "  - misturar latas e galões, de forma que o desperdício de tinta seja menor. Acrescente 10% de folga e sempre arredonde os valores para cima, isto é, considere latas cheias."
      ]
    },
    {
      "cell_type": "code",
      "metadata": {
        "id": "wH56ThFaeIOx"
      },
      "source": [
        ""
      ],
      "execution_count": null,
      "outputs": []
    },
    {
      "cell_type": "markdown",
      "metadata": {
        "id": "nsH6ogQWeHGf"
      },
      "source": [
        "\n",
        "18. Faça um programa que peça o tamanho de um arquivo para download (em MB) e a velocidade de um link de Internet (em Mbps), calcule e informe o tempo aproximado de download do arquivo usando este link (em minutos)."
      ]
    },
    {
      "cell_type": "code",
      "metadata": {
        "id": "KfQCgryMeHsf"
      },
      "source": [
        ""
      ],
      "execution_count": null,
      "outputs": []
    },
    {
      "cell_type": "markdown",
      "metadata": {
        "id": "gnrfpgY2IUeB"
      },
      "source": [
        "19. Faça um Programa que peça dois números e imprima o maior deles."
      ]
    },
    {
      "cell_type": "code",
      "metadata": {
        "id": "4JUU2QmSIWXP",
        "colab": {
          "base_uri": "https://localhost:8080/"
        },
        "outputId": "5f84e596-7cbf-4a21-d62b-c465ccce61b5"
      },
      "source": [
        "numero_1 = float(input(\"Insira o primeiro número: \"))\n",
        "numero_2 = float(input(\"Insira o segundo número: \"))\n",
        "maior = 0\n",
        "\n",
        "if (numero_1 > numero_2):\n",
        "  maior = numero_1\n",
        "else:\n",
        "  maior = numero_2\n",
        "\n",
        "print(maior)"
      ],
      "execution_count": null,
      "outputs": [
        {
          "output_type": "stream",
          "text": [
            "Insira o primeiro número: 13\n",
            "Insira o segundo número: 2\n",
            "13.0\n"
          ],
          "name": "stdout"
        }
      ]
    },
    {
      "cell_type": "markdown",
      "metadata": {
        "id": "kxaaucZEIWoe"
      },
      "source": [
        "20. Faça um Programa que peça um valor e mostre na tela se o valor é positivo ou negativo."
      ]
    },
    {
      "cell_type": "code",
      "metadata": {
        "id": "_LkNneUfIcan",
        "colab": {
          "base_uri": "https://localhost:8080/"
        },
        "outputId": "ae387663-118a-468d-b0e4-e3875893b351"
      },
      "source": [
        "valor = float(input(\"Digite um valor: \"))\n",
        "\n",
        "if (valor >= 0):\n",
        "  print(\"Positivo\")\n",
        "else:\n",
        "  print(\"Negativo\")"
      ],
      "execution_count": null,
      "outputs": [
        {
          "output_type": "stream",
          "text": [
            "Digite um valor: 8\n",
            "Positivo\n"
          ],
          "name": "stdout"
        }
      ]
    },
    {
      "cell_type": "markdown",
      "metadata": {
        "id": "AzbpTAtKTy0a"
      },
      "source": [
        ""
      ]
    },
    {
      "cell_type": "markdown",
      "metadata": {
        "id": "6tzLAONFIcjr"
      },
      "source": [
        "21. Faça um Programa que verifique se uma letra digitada é \"F\" ou \"M\". Conforme a letra escrever: F - Feminino, M - Masculino, Sexo Inválido."
      ]
    },
    {
      "cell_type": "code",
      "metadata": {
        "id": "pWmuD0OQIeRu",
        "colab": {
          "base_uri": "https://localhost:8080/"
        },
        "outputId": "bda04302-eb05-43bb-c1c1-47402e4ab679"
      },
      "source": [
        "letra = str(input(\"Insira uma letra: \"))\n",
        "\n",
        "if (letra == \"F\" or letra == \"f\"): \n",
        "  print(\"Feminino\")\n",
        "elif (letra == \"M\" or letra == \"m\"):\n",
        "  print(\"Masculino\")\n",
        "else: \n",
        "  print(\"Sexo inválido\")\n"
      ],
      "execution_count": null,
      "outputs": [
        {
          "output_type": "stream",
          "text": [
            "Insira uma letra: F\n",
            "Feminino\n"
          ],
          "name": "stdout"
        }
      ]
    },
    {
      "cell_type": "markdown",
      "metadata": {
        "id": "HppzNXFyIepE"
      },
      "source": [
        "22. Faça um Programa que verifique se uma letra digitada é vogal ou consoante."
      ]
    },
    {
      "cell_type": "code",
      "metadata": {
        "id": "NeRoyPWHIieQ",
        "colab": {
          "base_uri": "https://localhost:8080/"
        },
        "outputId": "cf2cd091-7f7a-4043-9714-e0db44c17e5d"
      },
      "source": [
        "letra = str(input(\"Digite uma letra: \"))\n",
        "\n",
        "if (letra == \"a\" or letra == \"e\" or letra == \"i\" or letra == \"o\" or letra == \"u\" or letra == \"A\" or letra == \"E\" or letra == \"I\" or letra == \"O\" or letra == \"U\"):\n",
        "  print(\"Vogal\")\n",
        "\n",
        "elif (letra != \"H\" and letra != \"h\"):\n",
        "  print(\"Consoante\")\n",
        "\n"
      ],
      "execution_count": null,
      "outputs": [
        {
          "output_type": "stream",
          "text": [
            "Digite uma letra: m\n",
            "Consoante\n"
          ],
          "name": "stdout"
        }
      ]
    },
    {
      "cell_type": "markdown",
      "metadata": {
        "id": "05daXDBkIioD"
      },
      "source": [
        "23. Faça um programa para a leitura de duas notas parciais de um aluno. O programa deve calcular a média alcançada por aluno e apresentar:\n",
        "  - A mensagem \"Aprovado\", se a média alcançada for maior ou igual a sete;\n",
        "  - A mensagem \"Reprovado\", se a média for menor do que sete;\n",
        "  - A mensagem \"Aprovado com Distinção\", se a média for igual a dez."
      ]
    },
    {
      "cell_type": "code",
      "metadata": {
        "id": "22boALu9IpaW",
        "colab": {
          "base_uri": "https://localhost:8080/"
        },
        "outputId": "d6d45413-10af-46e1-d701-3b97fe757178"
      },
      "source": [
        "nota_1 = float(input(\"Informe sua primeira nota: \"))\n",
        "nota_2 = float(input(\"Informe sua segunda nota: \"))\n",
        "media = (nota_1 + nota_2) / 2\n",
        "\n",
        "if (media == 10):\n",
        "  print(\"Aprovado com distinção\")\n",
        "elif (media >= 7):\n",
        "  print(\"Aprovado\") \n",
        "else: \n",
        "  print(\"Reprovado\")"
      ],
      "execution_count": null,
      "outputs": [
        {
          "output_type": "stream",
          "text": [
            "Informe sua primeira nota: 10\n",
            "Informe sua segunda nota: 9\n",
            "Aprovado\n"
          ],
          "name": "stdout"
        }
      ]
    },
    {
      "cell_type": "markdown",
      "metadata": {
        "id": "fE0iC6FMIpiA"
      },
      "source": [
        "24. Faça um Programa que leia três números e mostre o maior deles."
      ]
    },
    {
      "cell_type": "code",
      "metadata": {
        "id": "tIntZchwIqrU",
        "colab": {
          "base_uri": "https://localhost:8080/"
        },
        "outputId": "038b8332-140b-4422-83be-e8f50001082a"
      },
      "source": [
        "numero_1 = float(input(\"Digite o primeiro número: \"))\n",
        "numero_2 = float(input(\"Digite o segundo número: \"))\n",
        "numero_3 = float(input(\"Digite o terceiro número: \"))\n",
        "maior = 0\n",
        "\n",
        "if (numero_1 >= numero_2 and numero_1 >= numero_3): \n",
        " maior = numero_1\n",
        " print(numero_1)\n",
        "    \n",
        "elif (numero_2 >= numero_1 and numero_2 >= numero_3):\n",
        " maior = numero_2\n",
        " print(numero_2)\n",
        "\n",
        "else:\n",
        " maior = numero_3\n",
        " print(numero_3)"
      ],
      "execution_count": null,
      "outputs": [
        {
          "output_type": "stream",
          "text": [
            "Digite o primeiro número: 12\n",
            "Digite o segundo número: 123\n",
            "Digite o terceiro número: 1\n",
            "123.0\n"
          ],
          "name": "stdout"
        }
      ]
    },
    {
      "cell_type": "markdown",
      "metadata": {
        "id": "4XrSb6FQIqxv"
      },
      "source": [
        "25. Faça um Programa que leia três números e mostre o maior e o menor deles."
      ]
    },
    {
      "cell_type": "code",
      "metadata": {
        "id": "_5KUistPIsyX",
        "colab": {
          "base_uri": "https://localhost:8080/"
        },
        "outputId": "8c5fc097-6c8a-4297-d7a1-a9378ef9a954"
      },
      "source": [
        "numeros = []\n",
        "\n",
        "for n in range(1, 4):\n",
        " numeros.append(float(input(\"Digite um número: \")))\n",
        "\n",
        "numeros.sort()\n",
        "\n",
        "print(\"Maior: \", numeros[-1])\n",
        "print(\"Menor: \", min(numeros))"
      ],
      "execution_count": null,
      "outputs": [
        {
          "output_type": "stream",
          "text": [
            "Digite um número: 2\n",
            "Digite um número: 111\n",
            "Digite um número: 23\n",
            "Maior:  111.0\n",
            "Menor:  2.0\n"
          ],
          "name": "stdout"
        }
      ]
    },
    {
      "cell_type": "markdown",
      "metadata": {
        "id": "LhSVHd_NIs4D"
      },
      "source": [
        "26. Faça um programa que pergunte o preço de três produtos e informe qual produto você deve comprar, sabendo que a decisão é sempre pelo mais barato."
      ]
    },
    {
      "cell_type": "code",
      "metadata": {
        "id": "lYUoVKG4IvhY",
        "colab": {
          "base_uri": "https://localhost:8080/"
        },
        "outputId": "cc50f038-cb35-43fd-e5a3-6f5afd581820"
      },
      "source": [
        "preco = []\n",
        "\n",
        "for p in range(1, 4):\n",
        " preco.append(float(input(f\"Informe o preço do produto {p}: \")))\n",
        "\n",
        "print(\"Você deve comprar o produto\", (preco.index(min(preco)) + 1),\", que custa R$\", min(preco))"
      ],
      "execution_count": null,
      "outputs": [
        {
          "output_type": "stream",
          "text": [
            "Informe o preço do produto 1: 1\n",
            "Informe o preço do produto 2: 22\n",
            "Informe o preço do produto 3: 9\n",
            "Você deve comprar o produto 1 , que custa R$ 1.0\n"
          ],
          "name": "stdout"
        }
      ]
    },
    {
      "cell_type": "markdown",
      "metadata": {
        "id": "8rXf07MnIvmg"
      },
      "source": [
        "27. Faça um Programa que leia três números e mostre-os em ordem decrescente."
      ]
    },
    {
      "cell_type": "code",
      "metadata": {
        "id": "uxpZbg63Izxw",
        "colab": {
          "base_uri": "https://localhost:8080/"
        },
        "outputId": "69dfb970-24f5-4d6b-9bce-ae0b93eeaecb"
      },
      "source": [
        "numeros = []\n",
        "\n",
        "for n in range(1, 4):\n",
        "  numeros.append(float(input(\"Digite um número: \")))\n",
        "\n",
        "numeros.reverse()\n",
        "print(numeros)"
      ],
      "execution_count": null,
      "outputs": [
        {
          "output_type": "stream",
          "text": [
            "Digite um número: 88\n",
            "Digite um número: 19\n",
            "Digite um número: 26\n",
            "[26.0, 19.0, 88.0]\n"
          ],
          "name": "stdout"
        }
      ]
    },
    {
      "cell_type": "markdown",
      "metadata": {
        "id": "qs4yG3InIz37"
      },
      "source": [
        "28. Faça um Programa que pergunte em que turno você estuda. Peça para digitar M-matutino ou V-Vespertino ou N- Noturno. Imprima a mensagem \"Bom Dia!\", \"Boa Tarde!\" ou \"Boa Noite!\" ou \"Valor Inválido!\", conforme o caso."
      ]
    },
    {
      "cell_type": "code",
      "metadata": {
        "id": "u6nAOv_qI1Tf",
        "colab": {
          "base_uri": "https://localhost:8080/"
        },
        "outputId": "30148ef7-81ed-4fc0-9aac-34a3732ef7c5"
      },
      "source": [
        "turno = input(\"Informe o turno que você estuda (digite 'M' - matutino, 'v' - vespertino ou 'N' - noturno): \")\n",
        "\n",
        "if (turno == 'M' or turno == 'm'):\n",
        "  print(\"Bom dia!\")\n",
        "\n",
        "elif (turno == 'V' or turno == 'v'):\n",
        "  print(\"Boa tarde!\")\n",
        "\n",
        "elif (turno == 'N' or turno == 'n'):\n",
        "  print(\"Boa noite!\")\n",
        "\n",
        "else:\n",
        "  print(\"Valor inválido!\")"
      ],
      "execution_count": null,
      "outputs": [
        {
          "output_type": "stream",
          "text": [
            "Informe o turno que você estuda (digite 'M' - matutino, 'v' - vespertino ou 'N' - noturno): l\n",
            "Valor inválido!\n"
          ],
          "name": "stdout"
        }
      ]
    },
    {
      "cell_type": "markdown",
      "metadata": {
        "id": "5BeYYyfAI1YW"
      },
      "source": [
        "29. As Organizações Tabajara resolveram dar um aumento de salário aos seus colaboradores e lhe contrataram para desenvolver o programa que calculará os reajustes.\n",
        "\n",
        "  Faça um programa que recebe o salário de um colaborador e o reajuste segundo o seguinte critério, baseado no salário atual:\n",
        "  - salários até R\\$ 280,00 (incluindo) : aumento de 20%\n",
        "  - salários entre R\\$ 280,00 e R\\$ 700,00 : aumento de 15%\n",
        "  - salários entre R\\$ 700,00 e R\\$ 1500,00 : aumento de 10%\n",
        "  - salários de R$ 1500,00 em diante : aumento de 5% \n",
        "  \n",
        "  Após o aumento ser realizado, informe na tela:\n",
        "  - o salário antes do reajuste;\n",
        "  - o percentual de aumento aplicado;\n",
        "  - o valor do aumento;\n",
        "  - o novo salário, após o aumento."
      ]
    },
    {
      "cell_type": "code",
      "metadata": {
        "id": "B3OV-goZJRib",
        "colab": {
          "base_uri": "https://localhost:8080/"
        },
        "outputId": "080d7cf5-1941-43b3-8df3-a560d523c567"
      },
      "source": [
        "salario = float(input(\"Informe o seu salário: \"))\n",
        "reajuste = 0\n",
        "\n",
        "if (salario > 0 and salario <= 280):\n",
        "  reajuste = 1.2\n",
        "\n",
        "elif (salario > 280 and salario < 700):\n",
        "  reajuste = 1.15\n",
        "\n",
        "elif (salario > 700 and salario < 1500):\n",
        "  reajuste = 1.1\n",
        "\n",
        "else:\n",
        "  reajuste = 1.05\n",
        "\n",
        "  \n",
        "print(f\"Salário antes do reajuste: {salario}\")\n",
        "print(\"Percentual de aumento: %.0f\" %((reajuste * 100) - 100 ), \"%\")\n",
        "print(\"Valor do aumento: %.1f\" %(salario * (reajuste - 1)))\n",
        "print(f\"Novo salário: {salario * reajuste}\")"
      ],
      "execution_count": null,
      "outputs": [
        {
          "output_type": "stream",
          "text": [
            "Informe o seu salário: 450\n",
            "Salário antes do reajuste: 450.0\n",
            "Percentual de aumento: 15 %\n",
            "Valor do aumento: 67.5\n",
            "Novo salário: 517.5\n"
          ],
          "name": "stdout"
        }
      ]
    },
    {
      "cell_type": "markdown",
      "metadata": {
        "id": "ZApBeqhtKoh9"
      },
      "source": [
        "30. Faça um programa para o cálculo de uma folha de pagamento, sabendo que os descontos são do Imposto de Renda, que depende do salário bruto (conforme tabela abaixo) e 3% para o Sindicato e que o FGTS corresponde a 11% do Salário Bruto, mas não é descontado (é a empresa que deposita). O Salário Líquido corresponde ao Salário Bruto menos os descontos. O programa deverá pedir ao usuário o valor da sua hora e a quantidade de horas trabalhadas no mês.\n",
        "  \n",
        "  Desconto do IR:\n",
        "  - Salário Bruto até 900 (inclusive) - isento\n",
        "  - Salário Bruto até 1500 (inclusive) - desconto de 5%\n",
        "  - Salário Bruto até 2500 (inclusive) - desconto de 10%\n",
        "  - Salário Bruto acima de 2500 - desconto de 20% Imprima na tela as informações, dispostas conforme o exemplo abaixo. No exemplo o valor da hora é 5 e a quantidade de hora é 220.\n",
        ">\n",
        "```\n",
        "                  Salário Bruto: (5 * 220)        : R$ 1100,00\n",
        "                  (-) IR (5%)                     : R$   55,00  \n",
        "                  (-) INSS ( 10%)                 : R$  110,00\n",
        "                  FGTS (11%)                      : R$  121,00\n",
        "                  Total de descontos              : R$  165,00\n",
        "                  Salário Liquido                 : R$  935,00\n",
        "```"
      ]
    },
    {
      "cell_type": "code",
      "metadata": {
        "id": "19K3w3N4Kz4N"
      },
      "source": [
        ""
      ],
      "execution_count": null,
      "outputs": []
    },
    {
      "cell_type": "markdown",
      "metadata": {
        "id": "Ya2Iu7SbLC8f"
      },
      "source": [
        "31. Faça um Programa que leia um número e exiba o dia correspondente da semana. (1-Domingo, 2- Segunda, etc.), se digitar outro valor deve aparecer valor inválido."
      ]
    },
    {
      "cell_type": "code",
      "metadata": {
        "id": "IwvUxGa7LEaF"
      },
      "source": [
        ""
      ],
      "execution_count": null,
      "outputs": []
    },
    {
      "cell_type": "markdown",
      "metadata": {
        "id": "SwGBrUj7LEgQ"
      },
      "source": [
        "32. Faça um programa que lê as duas notas parciais obtidas por um aluno numa disciplina ao longo de um semestre, e calcule a sua média. A atribuição de conceitos obedece à tabela abaixo:\n",
        "```\n",
        "            Média de Aproveitamento  Conceito\n",
        "            Entre 9.0 e 10.0        A\n",
        "            Entre 7.5 e 9.0         B\n",
        "            Entre 6.0 e 7.5         C\n",
        "            Entre 4.0 e 6.0         D\n",
        "            Entre 4.0 e zero        E\n",
        "```\n",
        "\n",
        "  O algoritmo deve mostrar na tela as notas, a média, o conceito correspondente e a mensagem “APROVADO” se o conceito for A, B ou C ou “REPROVADO” se o conceito for D ou E."
      ]
    },
    {
      "cell_type": "code",
      "metadata": {
        "colab": {
          "base_uri": "https://localhost:8080/"
        },
        "id": "Se3vRxIaDbFc",
        "outputId": "ed060cea-2405-467d-f9b9-d90b4134dc57"
      },
      "source": [
        "nota1 = float(input(f\"Digite sua primeira nota: \"))\n",
        "nota2 = float(input(\"Digite sua segunda nota: \"))\n",
        "conceito = \"inicial\"\n",
        "media = (nota1 + nota2) / 2\n",
        "\n",
        "if (media >= 9 and media <= 10):\n",
        "  conceito = \"A\"\n",
        "  \n",
        "elif (media >= 7.5 and media < 9):\n",
        "  conceito = \"B\" \n",
        "\n",
        "elif (media  >= 6.5 and media < 7.5):\n",
        "  conceito = \"C\"\n",
        "\n",
        "elif (media >= 4 and media < 6):\n",
        "  conceito = \"D\"\n",
        "\n",
        "else:\n",
        "  conceito = \"E\"\n",
        "  \n",
        "print(f\"Nota 1: {nota1}\")\n",
        "print(f\"Nota 2: {nota2}\")\n",
        "print(f\"Média: {media}\")\n",
        "print(f\"Conceito {conceito}\")\n",
        "\n",
        "if (conceito == \"A\" or conceito == \"B\"):\n",
        "   print(\"APROVADO\")\n",
        "\n",
        "else:\n",
        "  print(\"REPROVADO\")"
      ],
      "execution_count": null,
      "outputs": [
        {
          "output_type": "stream",
          "text": [
            "Digite sua primeira nota: 5\n",
            "Digite sua segunda nota: 3\n",
            "Nota 1: 5.0\n",
            "Nota 2: 3.0\n",
            "Média: 4.0\n",
            "Conceito D\n",
            "REPROVADO\n"
          ],
          "name": "stdout"
        }
      ]
    }
  ]
}